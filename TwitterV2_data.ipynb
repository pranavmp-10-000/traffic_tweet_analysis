{
 "cells": [
  {
   "cell_type": "code",
   "execution_count": 1,
   "metadata": {},
   "outputs": [],
   "source": [
    "import requests\n",
    "import pandas as pd\n",
    "import numpy as np\n",
    "import os"
   ]
  },
  {
   "cell_type": "code",
   "execution_count": 2,
   "metadata": {},
   "outputs": [],
   "source": [
    "import simplejson as json"
   ]
  },
  {
   "cell_type": "code",
   "execution_count": 3,
   "metadata": {},
   "outputs": [],
   "source": [
    "BEARER_TOKEN = os.environ['BEARER_TOKEN_TW']\n"
   ]
  },
  {
   "cell_type": "markdown",
   "metadata": {},
   "source": [
    "## Get User"
   ]
  },
  {
   "cell_type": "code",
   "execution_count": 4,
   "metadata": {},
   "outputs": [],
   "source": [
    "user_url = \"https://api.twitter.com/2/users/by/username/btppubliceye\"\n",
    "\n",
    "payload={}\n",
    "headers = {\n",
    "  'Authorization': 'Bearer {}'.format(BEARER_TOKEN),\n",
    "  \n",
    "}\n"
   ]
  },
  {
   "cell_type": "code",
   "execution_count": 5,
   "metadata": {},
   "outputs": [],
   "source": [
    "user_response = requests.request(\"GET\", user_url, headers=headers, data=payload)\n",
    "user_id = user_response.json()['data']['id']\n"
   ]
  },
  {
   "cell_type": "code",
   "execution_count": 6,
   "metadata": {},
   "outputs": [],
   "source": [
    "def get_original_tweet(id):\n",
    "    url = \"https://api.twitter.com/2/tweets/{}\".format(id[0]['id'])\n",
    "    try:\n",
    "        tweet = requests.request(\"GET\", url, headers=headers, data=payload)\n",
    "        return tweet.json()['data']['text']\n",
    "    except:\n",
    "        return \"\""
   ]
  },
  {
   "cell_type": "code",
   "execution_count": 7,
   "metadata": {},
   "outputs": [
    {
     "output_type": "execute_result",
     "data": {
      "text/plain": [
       "'Police vehicle with dark tints. Taken today at 11:15 near Cauvery theatre. @blrcitytraffic @BlrCityPolice @btppubliceye https://t.co/sEnzcs1uo1'"
      ]
     },
     "metadata": {},
     "execution_count": 7
    }
   ],
   "source": [
    "get_original_tweet([{'type': 'replied_to', 'id': '1348149446194864128'}])"
   ]
  },
  {
   "cell_type": "markdown",
   "metadata": {},
   "source": [
    "## User Timeline"
   ]
  },
  {
   "cell_type": "code",
   "execution_count": 8,
   "metadata": {},
   "outputs": [],
   "source": [
    "df =pd.DataFrame.from_dict({\"in_reply_to_user_id\":[],\"text\":[],\"created_at\":[],\"id\":[]})"
   ]
  },
  {
   "cell_type": "code",
   "execution_count": 9,
   "metadata": {},
   "outputs": [],
   "source": [
    "def get_timeline_url(user_id,token):\n",
    "    timeline_url =''\n",
    "    if(len(token)>0):\n",
    "        timeline_url=\"https://api.twitter.com/2/users/{}/tweets?expansions=attachments.media_keys&tweet.fields=in_reply_to_user_id,text,created_at,referenced_tweets&media.fields=preview_image_url,url&start_time=2020-12-01T00:00:01Z&end_time=2021-01-10T23:59:59Z&max_results=99\".format(user_id)\n",
    "        timeline_url=timeline_url+\"&pagination_token={}\".format(token)\n",
    "    else:\n",
    "        timeline_url=\"https://api.twitter.com/2/users/{}/tweets?expansions=attachments.media_keys&tweet.fields=in_reply_to_user_id,text,created_at,referenced_tweets&media.fields=preview_image_url,url&start_time=2020-12-01T00:00:01Z&end_time=2021-01-10T23:59:59Z&max_results=99\".format(user_id)\n",
    "\n",
    "    return timeline_url"
   ]
  },
  {
   "cell_type": "code",
   "execution_count": 10,
   "metadata": {},
   "outputs": [
    {
     "output_type": "stream",
     "name": "stdout",
     "text": [
      "{'oldest_id': '1335448320777457666', 'newest_id': '1348253930829078529', 'result_count': 99, 'next_token': '7140dibdnow9c7btw3w29iwb7bjfs44jf7wtx6i998njq'}\n",
      "{'oldest_id': '1333704327093911555', 'newest_id': '1335223744361459712', 'result_count': 11, 'previous_token': '77qpymm88g5h9vqkluldpye2aemc1tcrhcoqk4cv897aq'}\n",
      "2020-12-01T09:27:45.000Z\n"
     ]
    }
   ],
   "source": [
    "i=0\n",
    "token=''\n",
    "response_json =[]\n",
    "pagination_token=True\n",
    "while(pagination_token==True):\n",
    "    if i==0:\n",
    "        timeline_url = get_timeline_url(user_id,'')\n",
    "        timeline_response = requests.request(\"GET\", timeline_url, headers=headers, data=payload)\n",
    "        response_json.append(timeline_response.json())\n",
    "        data = pd.json_normalize(response_json[0],record_path=['data'])\n",
    "        df = pd.concat([df,data])\n",
    "        if('meta' in timeline_response.json().keys()):\n",
    "            print(timeline_response.json()['meta'])\n",
    "            if 'next_token' in timeline_response.json()['meta'].keys():\n",
    "                token = timeline_response.json()['meta']['next_token']\n",
    "                i=1\n",
    "            else:\n",
    "                pagination_token=False\n",
    "    else:\n",
    "        timeline_url=get_timeline_url(user_id,token)\n",
    "        timeline_response = requests.request(\"GET\", timeline_url, headers=headers, data=payload)\n",
    "        response_json.append(timeline_response.json())\n",
    "        data = pd.json_normalize(response_json[-1],record_path=['data'])\n",
    "        df = pd.concat([df,data])\n",
    "        if('meta' in timeline_response.json().keys()):\n",
    "            print(timeline_response.json()['meta'])\n",
    "            if 'next_token' in timeline_response.json()['meta'].keys():\n",
    "                token = timeline_response.json()['meta']['next_token']\n",
    "                i=i+1\n",
    "            else:\n",
    "                pagination_token=False\n",
    "        else:\n",
    "                pagination_token=False\n",
    "        print(timeline_response.json()['data'][-1]['created_at'])\n",
    "           \n",
    "        "
   ]
  },
  {
   "cell_type": "code",
   "execution_count": 11,
   "metadata": {},
   "outputs": [],
   "source": [
    "#with open('tweet.txt', 'w') as json_file:\n",
    "#    json.dump(twitter_text_data, json_file)"
   ]
  },
  {
   "cell_type": "code",
   "execution_count": 12,
   "metadata": {},
   "outputs": [],
   "source": [
    "df['original_tweet']=df['referenced_tweets'].apply(get_original_tweet)"
   ]
  },
  {
   "cell_type": "code",
   "execution_count": 13,
   "metadata": {},
   "outputs": [
    {
     "output_type": "execute_result",
     "data": {
      "text/plain": [
       "   in_reply_to_user_id                                               text  \\\n",
       "0  1116569277199306753  @concern13161846 Please wait there is the serv...   \n",
       "1  1116569277199306753  @concern13161846 @blrcitytraffic @BlrCityPolic...   \n",
       "2  1340848044560982016     @BangaloreRavi1 please mention exact location.   \n",
       "3            219674551  @arunchid Noted, have informed to technical te...   \n",
       "4            223543322  @intrepidcritter Please provide exact date and...   \n",
       "\n",
       "                 created_at                   id  \\\n",
       "0  2021-01-10T13:02:41.000Z  1348253930829078529   \n",
       "1  2021-01-10T03:54:54.000Z  1348116077528580096   \n",
       "2  2021-01-09T13:24:46.000Z  1347897100181204993   \n",
       "3  2021-01-09T13:23:29.000Z  1347896780772442117   \n",
       "4  2021-01-09T07:56:21.000Z  1347814454046515202   \n",
       "\n",
       "                                   referenced_tweets attachments.media_keys  \\\n",
       "0  [{'type': 'replied_to', 'id': '134814944619486...                    NaN   \n",
       "1  [{'type': 'replied_to', 'id': '134792929685833...                    NaN   \n",
       "2  [{'type': 'replied_to', 'id': '134789509558490...                    NaN   \n",
       "3  [{'type': 'replied_to', 'id': '134788318393355...                    NaN   \n",
       "4  [{'type': 'replied_to', 'id': '134777172921765...                    NaN   \n",
       "\n",
       "                                      original_tweet  \n",
       "0  Police vehicle with dark tints. Taken today at...  \n",
       "1  Looks like police have forgotten that they nee...  \n",
       "2  @btppubliceye Of late many street vendors are ...  \n",
       "3  @btppubliceye \\n\\nThe signal near navarang bar...  \n",
       "4  @btppubliceye Chennamana Kere achhkattu, BSK 3...  "
      ],
      "text/html": "<div>\n<style scoped>\n    .dataframe tbody tr th:only-of-type {\n        vertical-align: middle;\n    }\n\n    .dataframe tbody tr th {\n        vertical-align: top;\n    }\n\n    .dataframe thead th {\n        text-align: right;\n    }\n</style>\n<table border=\"1\" class=\"dataframe\">\n  <thead>\n    <tr style=\"text-align: right;\">\n      <th></th>\n      <th>in_reply_to_user_id</th>\n      <th>text</th>\n      <th>created_at</th>\n      <th>id</th>\n      <th>referenced_tweets</th>\n      <th>attachments.media_keys</th>\n      <th>original_tweet</th>\n    </tr>\n  </thead>\n  <tbody>\n    <tr>\n      <th>0</th>\n      <td>1116569277199306753</td>\n      <td>@concern13161846 Please wait there is the serv...</td>\n      <td>2021-01-10T13:02:41.000Z</td>\n      <td>1348253930829078529</td>\n      <td>[{'type': 'replied_to', 'id': '134814944619486...</td>\n      <td>NaN</td>\n      <td>Police vehicle with dark tints. Taken today at...</td>\n    </tr>\n    <tr>\n      <th>1</th>\n      <td>1116569277199306753</td>\n      <td>@concern13161846 @blrcitytraffic @BlrCityPolic...</td>\n      <td>2021-01-10T03:54:54.000Z</td>\n      <td>1348116077528580096</td>\n      <td>[{'type': 'replied_to', 'id': '134792929685833...</td>\n      <td>NaN</td>\n      <td>Looks like police have forgotten that they nee...</td>\n    </tr>\n    <tr>\n      <th>2</th>\n      <td>1340848044560982016</td>\n      <td>@BangaloreRavi1 please mention exact location.</td>\n      <td>2021-01-09T13:24:46.000Z</td>\n      <td>1347897100181204993</td>\n      <td>[{'type': 'replied_to', 'id': '134789509558490...</td>\n      <td>NaN</td>\n      <td>@btppubliceye Of late many street vendors are ...</td>\n    </tr>\n    <tr>\n      <th>3</th>\n      <td>219674551</td>\n      <td>@arunchid Noted, have informed to technical te...</td>\n      <td>2021-01-09T13:23:29.000Z</td>\n      <td>1347896780772442117</td>\n      <td>[{'type': 'replied_to', 'id': '134788318393355...</td>\n      <td>NaN</td>\n      <td>@btppubliceye \\n\\nThe signal near navarang bar...</td>\n    </tr>\n    <tr>\n      <th>4</th>\n      <td>223543322</td>\n      <td>@intrepidcritter Please provide exact date and...</td>\n      <td>2021-01-09T07:56:21.000Z</td>\n      <td>1347814454046515202</td>\n      <td>[{'type': 'replied_to', 'id': '134777172921765...</td>\n      <td>NaN</td>\n      <td>@btppubliceye Chennamana Kere achhkattu, BSK 3...</td>\n    </tr>\n  </tbody>\n</table>\n</div>"
     },
     "metadata": {},
     "execution_count": 13
    }
   ],
   "source": [
    "df.head()"
   ]
  },
  {
   "cell_type": "code",
   "execution_count": 14,
   "metadata": {},
   "outputs": [],
   "source": [
    "df.to_excel('btp-01122020T10012021.xlsx',index=False)"
   ]
  },
  {
   "cell_type": "code",
   "execution_count": 15,
   "metadata": {},
   "outputs": [
    {
     "output_type": "execute_result",
     "data": {
      "text/plain": [
       "in_reply_to_user_id       108\n",
       "text                      110\n",
       "created_at                110\n",
       "id                        110\n",
       "referenced_tweets         110\n",
       "attachments.media_keys      2\n",
       "original_tweet            110\n",
       "dtype: int64"
      ]
     },
     "metadata": {},
     "execution_count": 15
    }
   ],
   "source": [
    "df.count()"
   ]
  }
 ],
 "metadata": {
  "kernelspec": {
   "display_name": "Python 3",
   "language": "python",
   "name": "python3"
  },
  "language_info": {
   "codemirror_mode": {
    "name": "ipython",
    "version": 3
   },
   "file_extension": ".py",
   "mimetype": "text/x-python",
   "name": "python",
   "nbconvert_exporter": "python",
   "pygments_lexer": "ipython3",
   "version": "3.8.5-final"
  }
 },
 "nbformat": 4,
 "nbformat_minor": 4
}