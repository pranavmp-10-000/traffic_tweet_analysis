{
 "cells": [
  {
   "cell_type": "code",
   "execution_count": 1,
   "metadata": {},
   "outputs": [],
   "source": [
    "import requests\n",
    "import pandas as pd\n",
    "import numpy as np\n",
    "import os"
   ]
  },
  {
   "cell_type": "code",
   "execution_count": 2,
   "metadata": {},
   "outputs": [],
   "source": [
    "import simplejson as json"
   ]
  },
  {
   "cell_type": "code",
   "execution_count": 3,
   "metadata": {},
   "outputs": [],
   "source": [
    "BEARER_TOKEN = os.environ['BEARER_TOKEN_TW']\n"
   ]
  },
  {
   "cell_type": "markdown",
   "metadata": {},
   "source": [
    "## Get User"
   ]
  },
  {
   "cell_type": "code",
   "execution_count": 4,
   "metadata": {},
   "outputs": [],
   "source": [
    "user_url = \"https://api.twitter.com/2/users/by/username/btppubliceye\"\n",
    "\n",
    "payload={}\n",
    "headers = {\n",
    "  'Authorization': 'Bearer {}'.format(BEARER_TOKEN),\n",
    "  \n",
    "}\n"
   ]
  },
  {
   "cell_type": "code",
   "execution_count": 5,
   "metadata": {},
   "outputs": [
    {
     "output_type": "stream",
     "name": "stdout",
     "text": [
      "761577241960599552\n"
     ]
    }
   ],
   "source": [
    "user_response = requests.request(\"GET\", user_url, headers=headers, data=payload)\n",
    "user_id = user_response.json()['data']['id']\n",
    "print(user_id)"
   ]
  },
  {
   "cell_type": "code",
   "execution_count": 30,
   "metadata": {},
   "outputs": [],
   "source": [
    "def get_original_tweet(id):\n",
    "    try:\n",
    "        url = \"https://api.twitter.com/2/tweets/{}?media.fields=url,media_key&expansions=attachments.media_keys\".format(str(id[0]['id']))\n",
    "        tweet = requests.request(\"GET\", url, headers=headers, data=payload)\n",
    "        tweet = tweet.json()\n",
    "        #\"{},{}\".format()\n",
    "        text,media = '',''\n",
    "        if('text' in tweet['data'].keys()):\n",
    "            text = tweet['data']['text']\n",
    "        if('media' in tweet['includes']):\n",
    "            media = tweet['includes']['media'][0]['url']\n",
    "        return [text,media]\n",
    "    except:\n",
    "        return [\"\",\"\"]"
   ]
  },
  {
   "cell_type": "code",
   "execution_count": 31,
   "metadata": {},
   "outputs": [],
   "source": [
    "a = get_original_tweet([{'type': 'replied_to', 'id': '1344349264743317505'}])"
   ]
  },
  {
   "cell_type": "markdown",
   "metadata": {},
   "source": [
    "## User Timeline"
   ]
  },
  {
   "cell_type": "code",
   "execution_count": 16,
   "metadata": {},
   "outputs": [],
   "source": [
    "df =pd.DataFrame.from_dict({\"in_reply_to_user_id\":[],\"text\":[],\"created_at\":[],\"id\":[]})"
   ]
  },
  {
   "cell_type": "code",
   "execution_count": 17,
   "metadata": {},
   "outputs": [],
   "source": [
    "start_date = '2020-07-01T00:00:01Z'\n",
    "end_date = '2020-12-31T23:59:59Z'\n",
    "def get_timeline_url(user_id,token):\n",
    "    timeline_url =''\n",
    "    if(len(token)>0):\n",
    "        timeline_url=\"https://api.twitter.com/2/users/{}/tweets?expansions=attachments.media_keys&tweet.fields=in_reply_to_user_id,text,created_at,referenced_tweets&media.fields=preview_image_url,url&start_time={}&end_time={}&max_results=99\".format(user_id,start_date,end_date)\n",
    "        timeline_url=timeline_url+\"&pagination_token={}\".format(token)\n",
    "    else:\n",
    "        timeline_url=\"https://api.twitter.com/2/users/{}/tweets?expansions=attachments.media_keys&tweet.fields=in_reply_to_user_id,text,created_at,referenced_tweets&media.fields=preview_image_url,url&start_time={}&end_time={}&max_results=99\".format(user_id,start_date,end_date)\n",
    "\n",
    "    return timeline_url"
   ]
  },
  {
   "cell_type": "code",
   "execution_count": 18,
   "metadata": {},
   "outputs": [
    {
     "output_type": "stream",
     "name": "stdout",
     "text": [
      "{'oldest_id': '1328591773925568512', 'newest_id': '1344647448392679432', 'result_count': 99, 'next_token': '7140dibdnow9c7btw3w1ujouq8f5dc3rw3meobjo7wz76'}\n",
      "{'oldest_id': '1311221652705832961', 'newest_id': '1328206911028690945', 'result_count': 99, 'next_token': '7140dibdnow9c7btw3w1ez4x3y7m9noprqzmj1a2arrjl', 'previous_token': '77qpymm88g5h9vqkluldaz6aqbwf2bcdj3zom3upw91kl'}\n",
      "2020-09-30T08:29:37.000Z\n",
      "{'oldest_id': '1286542337322049536', 'newest_id': '1311220356221267968', 'result_count': 99, 'next_token': '7140dibdnow9c7btw3t4lh1uo3rayvefqpnhqn3jseq0m', 'previous_token': '77qpymm88g5h9vqklulcven9uy4ucl40fb82h9shdxwzc'}\n",
      "2020-07-24T06:02:50.000Z\n",
      "{'oldest_id': '1278560102824374272', 'newest_id': '1286294750941728769', 'result_count': 36, 'previous_token': '77qpymm88g5h9vqkluig1wjb9fbcyvjec45xn39ztk01l'}\n",
      "2020-07-02T05:24:17.000Z\n"
     ]
    }
   ],
   "source": [
    "i=0\n",
    "token=''\n",
    "response_json =[]\n",
    "pagination_token=True\n",
    "while(pagination_token==True):\n",
    "    if i==0:\n",
    "        timeline_url = get_timeline_url(user_id,'')\n",
    "        timeline_response = requests.request(\"GET\", timeline_url, headers=headers, data=payload)\n",
    "        response_json.append(timeline_response.json())\n",
    "        data = pd.json_normalize(response_json[0],record_path=['data'])\n",
    "        df = pd.concat([df,data])\n",
    "        if('meta' in timeline_response.json().keys()):\n",
    "            print(timeline_response.json()['meta'])\n",
    "            if 'next_token' in timeline_response.json()['meta'].keys():\n",
    "                token = timeline_response.json()['meta']['next_token']\n",
    "                i=1\n",
    "            else:\n",
    "                pagination_token=False\n",
    "    else:\n",
    "        timeline_url=get_timeline_url(user_id,token)\n",
    "        timeline_response = requests.request(\"GET\", timeline_url, headers=headers, data=payload)\n",
    "        response_json.append(timeline_response.json())\n",
    "        data = pd.json_normalize(response_json[-1],record_path=['data'])\n",
    "        df = pd.concat([df,data])\n",
    "        if('meta' in timeline_response.json().keys()):\n",
    "            print(timeline_response.json()['meta'])\n",
    "            if 'next_token' in timeline_response.json()['meta'].keys():\n",
    "                token = timeline_response.json()['meta']['next_token']\n",
    "                i=i+1\n",
    "            else:\n",
    "                pagination_token=False\n",
    "        else:\n",
    "                pagination_token=False\n",
    "        print(timeline_response.json()['data'][-1]['created_at'])\n",
    "           \n",
    "        "
   ]
  },
  {
   "cell_type": "code",
   "execution_count": 19,
   "metadata": {},
   "outputs": [
    {
     "output_type": "execute_result",
     "data": {
      "text/plain": [
       "  in_reply_to_user_id                                               text  \\\n",
       "0  779270730139574272       @SrihariGoutham @rajajinagartrps @Mvmtraffic   \n",
       "1          3911755279  @Chets_Bhandary @JnagarTr @JnagarTr check and ...   \n",
       "2          2472048134  @devda_vishal Please wait. We will check and l...   \n",
       "3           415639796  @shyamkumar0531 @Tejasvi_Surya @PCMohanMP @BBM...   \n",
       "4  779270730139574272  @SrihariGoutham @rajajinagartrps @rajajinagart...   \n",
       "\n",
       "                 created_at                   id  \\\n",
       "0  2020-12-31T14:11:48.000Z  1344647448392679432   \n",
       "1  2020-12-31T14:10:09.000Z  1344647032481280001   \n",
       "2  2020-12-30T13:09:27.000Z  1344269369874923522   \n",
       "3  2020-12-30T13:03:36.000Z  1344267894813642754   \n",
       "4  2020-12-30T13:02:25.000Z  1344267599287177216   \n",
       "\n",
       "                                   referenced_tweets attachments.media_keys  \n",
       "0  [{'type': 'replied_to', 'id': '134455832535518...                    NaN  \n",
       "1  [{'type': 'replied_to', 'id': '134459997907614...                    NaN  \n",
       "2  [{'type': 'replied_to', 'id': '134392161145229...                    NaN  \n",
       "3  [{'type': 'replied_to', 'id': '134419557884710...                    NaN  \n",
       "4  [{'type': 'replied_to', 'id': '134426628904952...                    NaN  "
      ],
      "text/html": "<div>\n<style scoped>\n    .dataframe tbody tr th:only-of-type {\n        vertical-align: middle;\n    }\n\n    .dataframe tbody tr th {\n        vertical-align: top;\n    }\n\n    .dataframe thead th {\n        text-align: right;\n    }\n</style>\n<table border=\"1\" class=\"dataframe\">\n  <thead>\n    <tr style=\"text-align: right;\">\n      <th></th>\n      <th>in_reply_to_user_id</th>\n      <th>text</th>\n      <th>created_at</th>\n      <th>id</th>\n      <th>referenced_tweets</th>\n      <th>attachments.media_keys</th>\n    </tr>\n  </thead>\n  <tbody>\n    <tr>\n      <th>0</th>\n      <td>779270730139574272</td>\n      <td>@SrihariGoutham @rajajinagartrps @Mvmtraffic</td>\n      <td>2020-12-31T14:11:48.000Z</td>\n      <td>1344647448392679432</td>\n      <td>[{'type': 'replied_to', 'id': '134455832535518...</td>\n      <td>NaN</td>\n    </tr>\n    <tr>\n      <th>1</th>\n      <td>3911755279</td>\n      <td>@Chets_Bhandary @JnagarTr @JnagarTr check and ...</td>\n      <td>2020-12-31T14:10:09.000Z</td>\n      <td>1344647032481280001</td>\n      <td>[{'type': 'replied_to', 'id': '134459997907614...</td>\n      <td>NaN</td>\n    </tr>\n    <tr>\n      <th>2</th>\n      <td>2472048134</td>\n      <td>@devda_vishal Please wait. We will check and l...</td>\n      <td>2020-12-30T13:09:27.000Z</td>\n      <td>1344269369874923522</td>\n      <td>[{'type': 'replied_to', 'id': '134392161145229...</td>\n      <td>NaN</td>\n    </tr>\n    <tr>\n      <th>3</th>\n      <td>415639796</td>\n      <td>@shyamkumar0531 @Tejasvi_Surya @PCMohanMP @BBM...</td>\n      <td>2020-12-30T13:03:36.000Z</td>\n      <td>1344267894813642754</td>\n      <td>[{'type': 'replied_to', 'id': '134419557884710...</td>\n      <td>NaN</td>\n    </tr>\n    <tr>\n      <th>4</th>\n      <td>779270730139574272</td>\n      <td>@SrihariGoutham @rajajinagartrps @rajajinagart...</td>\n      <td>2020-12-30T13:02:25.000Z</td>\n      <td>1344267599287177216</td>\n      <td>[{'type': 'replied_to', 'id': '134426628904952...</td>\n      <td>NaN</td>\n    </tr>\n  </tbody>\n</table>\n</div>"
     },
     "metadata": {},
     "execution_count": 19
    }
   ],
   "source": [
    "df.head()"
   ]
  },
  {
   "cell_type": "code",
   "execution_count": 33,
   "metadata": {},
   "outputs": [],
   "source": [
    "#df=df[df['referenced_tweets'].notna()]\n",
    "df['original_text']=df['referenced_tweets'].apply(get_original_tweet)"
   ]
  },
  {
   "cell_type": "code",
   "execution_count": 34,
   "metadata": {},
   "outputs": [
    {
     "output_type": "execute_result",
     "data": {
      "text/plain": [
       "in_reply_to_user_id       324\n",
       "text                      333\n",
       "created_at                333\n",
       "id                        333\n",
       "referenced_tweets         333\n",
       "attachments.media_keys      8\n",
       "original_text             333\n",
       "dtype: int64"
      ]
     },
     "metadata": {},
     "execution_count": 34
    }
   ],
   "source": [
    "df.count()"
   ]
  },
  {
   "cell_type": "code",
   "execution_count": 35,
   "metadata": {},
   "outputs": [
    {
     "output_type": "execute_result",
     "data": {
      "text/plain": [
       "  in_reply_to_user_id                                               text  \\\n",
       "0  779270730139574272       @SrihariGoutham @rajajinagartrps @Mvmtraffic   \n",
       "1          3911755279  @Chets_Bhandary @JnagarTr @JnagarTr check and ...   \n",
       "2          2472048134  @devda_vishal Please wait. We will check and l...   \n",
       "3           415639796  @shyamkumar0531 @Tejasvi_Surya @PCMohanMP @BBM...   \n",
       "4  779270730139574272  @SrihariGoutham @rajajinagartrps @rajajinagart...   \n",
       "\n",
       "                 created_at                   id  \\\n",
       "0  2020-12-31T14:11:48.000Z  1344647448392679432   \n",
       "1  2020-12-31T14:10:09.000Z  1344647032481280001   \n",
       "2  2020-12-30T13:09:27.000Z  1344269369874923522   \n",
       "3  2020-12-30T13:03:36.000Z  1344267894813642754   \n",
       "4  2020-12-30T13:02:25.000Z  1344267599287177216   \n",
       "\n",
       "                                   referenced_tweets attachments.media_keys  \\\n",
       "0  [{'type': 'replied_to', 'id': '134455832535518...                    NaN   \n",
       "1  [{'type': 'replied_to', 'id': '134459997907614...                    NaN   \n",
       "2  [{'type': 'replied_to', 'id': '134392161145229...                    NaN   \n",
       "3  [{'type': 'replied_to', 'id': '134419557884710...                    NaN   \n",
       "4  [{'type': 'replied_to', 'id': '134426628904952...                    NaN   \n",
       "\n",
       "                                       original_text  \n",
       "0                                               [, ]  \n",
       "1  [@JnagarTr @btppubliceye \\nSir, tree branches ...  \n",
       "2                                               [, ]  \n",
       "3                                               [, ]  \n",
       "4  [@btppubliceye @rajajinagartrps This car was p...  "
      ],
      "text/html": "<div>\n<style scoped>\n    .dataframe tbody tr th:only-of-type {\n        vertical-align: middle;\n    }\n\n    .dataframe tbody tr th {\n        vertical-align: top;\n    }\n\n    .dataframe thead th {\n        text-align: right;\n    }\n</style>\n<table border=\"1\" class=\"dataframe\">\n  <thead>\n    <tr style=\"text-align: right;\">\n      <th></th>\n      <th>in_reply_to_user_id</th>\n      <th>text</th>\n      <th>created_at</th>\n      <th>id</th>\n      <th>referenced_tweets</th>\n      <th>attachments.media_keys</th>\n      <th>original_text</th>\n    </tr>\n  </thead>\n  <tbody>\n    <tr>\n      <th>0</th>\n      <td>779270730139574272</td>\n      <td>@SrihariGoutham @rajajinagartrps @Mvmtraffic</td>\n      <td>2020-12-31T14:11:48.000Z</td>\n      <td>1344647448392679432</td>\n      <td>[{'type': 'replied_to', 'id': '134455832535518...</td>\n      <td>NaN</td>\n      <td>[, ]</td>\n    </tr>\n    <tr>\n      <th>1</th>\n      <td>3911755279</td>\n      <td>@Chets_Bhandary @JnagarTr @JnagarTr check and ...</td>\n      <td>2020-12-31T14:10:09.000Z</td>\n      <td>1344647032481280001</td>\n      <td>[{'type': 'replied_to', 'id': '134459997907614...</td>\n      <td>NaN</td>\n      <td>[@JnagarTr @btppubliceye \\nSir, tree branches ...</td>\n    </tr>\n    <tr>\n      <th>2</th>\n      <td>2472048134</td>\n      <td>@devda_vishal Please wait. We will check and l...</td>\n      <td>2020-12-30T13:09:27.000Z</td>\n      <td>1344269369874923522</td>\n      <td>[{'type': 'replied_to', 'id': '134392161145229...</td>\n      <td>NaN</td>\n      <td>[, ]</td>\n    </tr>\n    <tr>\n      <th>3</th>\n      <td>415639796</td>\n      <td>@shyamkumar0531 @Tejasvi_Surya @PCMohanMP @BBM...</td>\n      <td>2020-12-30T13:03:36.000Z</td>\n      <td>1344267894813642754</td>\n      <td>[{'type': 'replied_to', 'id': '134419557884710...</td>\n      <td>NaN</td>\n      <td>[, ]</td>\n    </tr>\n    <tr>\n      <th>4</th>\n      <td>779270730139574272</td>\n      <td>@SrihariGoutham @rajajinagartrps @rajajinagart...</td>\n      <td>2020-12-30T13:02:25.000Z</td>\n      <td>1344267599287177216</td>\n      <td>[{'type': 'replied_to', 'id': '134426628904952...</td>\n      <td>NaN</td>\n      <td>[@btppubliceye @rajajinagartrps This car was p...</td>\n    </tr>\n  </tbody>\n</table>\n</div>"
     },
     "metadata": {},
     "execution_count": 35
    }
   ],
   "source": [
    "df.head()"
   ]
  },
  {
   "cell_type": "code",
   "execution_count": 36,
   "metadata": {},
   "outputs": [],
   "source": [
    "#df = df[df['original_text']!='']\n",
    "df[['original_tweet','media_url']]= pd.DataFrame(df['original_text'].tolist(),columns=['original_tweet','media_url'])"
   ]
  },
  {
   "cell_type": "code",
   "execution_count": 37,
   "metadata": {},
   "outputs": [
    {
     "output_type": "execute_result",
     "data": {
      "text/plain": [
       "  in_reply_to_user_id                                               text  \\\n",
       "0  779270730139574272       @SrihariGoutham @rajajinagartrps @Mvmtraffic   \n",
       "1          3911755279  @Chets_Bhandary @JnagarTr @JnagarTr check and ...   \n",
       "2          2472048134  @devda_vishal Please wait. We will check and l...   \n",
       "3           415639796  @shyamkumar0531 @Tejasvi_Surya @PCMohanMP @BBM...   \n",
       "4  779270730139574272  @SrihariGoutham @rajajinagartrps @rajajinagart...   \n",
       "\n",
       "                 created_at                   id  \\\n",
       "0  2020-12-31T14:11:48.000Z  1344647448392679432   \n",
       "1  2020-12-31T14:10:09.000Z  1344647032481280001   \n",
       "2  2020-12-30T13:09:27.000Z  1344269369874923522   \n",
       "3  2020-12-30T13:03:36.000Z  1344267894813642754   \n",
       "4  2020-12-30T13:02:25.000Z  1344267599287177216   \n",
       "\n",
       "                                   referenced_tweets attachments.media_keys  \\\n",
       "0  [{'type': 'replied_to', 'id': '134455832535518...                    NaN   \n",
       "1  [{'type': 'replied_to', 'id': '134459997907614...                    NaN   \n",
       "2  [{'type': 'replied_to', 'id': '134392161145229...                    NaN   \n",
       "3  [{'type': 'replied_to', 'id': '134419557884710...                    NaN   \n",
       "4  [{'type': 'replied_to', 'id': '134426628904952...                    NaN   \n",
       "\n",
       "                                       original_text  \\\n",
       "0                                               [, ]   \n",
       "1  [@JnagarTr @btppubliceye \\nSir, tree branches ...   \n",
       "2                                               [, ]   \n",
       "3                                               [, ]   \n",
       "4  [@btppubliceye @rajajinagartrps This car was p...   \n",
       "\n",
       "                                      original_tweet  \\\n",
       "0                                                      \n",
       "1  @JnagarTr @btppubliceye \\nSir, tree branches c...   \n",
       "2                                                      \n",
       "3                                                      \n",
       "4  @btppubliceye @rajajinagartrps This car was pa...   \n",
       "\n",
       "                                         media_url  \n",
       "0                                                   \n",
       "1  https://pbs.twimg.com/media/Eqj6iisUYAEmdbX.jpg  \n",
       "2                                                   \n",
       "3                                                   \n",
       "4  https://pbs.twimg.com/media/EqfLDMuXYAU9u82.jpg  "
      ],
      "text/html": "<div>\n<style scoped>\n    .dataframe tbody tr th:only-of-type {\n        vertical-align: middle;\n    }\n\n    .dataframe tbody tr th {\n        vertical-align: top;\n    }\n\n    .dataframe thead th {\n        text-align: right;\n    }\n</style>\n<table border=\"1\" class=\"dataframe\">\n  <thead>\n    <tr style=\"text-align: right;\">\n      <th></th>\n      <th>in_reply_to_user_id</th>\n      <th>text</th>\n      <th>created_at</th>\n      <th>id</th>\n      <th>referenced_tweets</th>\n      <th>attachments.media_keys</th>\n      <th>original_text</th>\n      <th>original_tweet</th>\n      <th>media_url</th>\n    </tr>\n  </thead>\n  <tbody>\n    <tr>\n      <th>0</th>\n      <td>779270730139574272</td>\n      <td>@SrihariGoutham @rajajinagartrps @Mvmtraffic</td>\n      <td>2020-12-31T14:11:48.000Z</td>\n      <td>1344647448392679432</td>\n      <td>[{'type': 'replied_to', 'id': '134455832535518...</td>\n      <td>NaN</td>\n      <td>[, ]</td>\n      <td></td>\n      <td></td>\n    </tr>\n    <tr>\n      <th>1</th>\n      <td>3911755279</td>\n      <td>@Chets_Bhandary @JnagarTr @JnagarTr check and ...</td>\n      <td>2020-12-31T14:10:09.000Z</td>\n      <td>1344647032481280001</td>\n      <td>[{'type': 'replied_to', 'id': '134459997907614...</td>\n      <td>NaN</td>\n      <td>[@JnagarTr @btppubliceye \\nSir, tree branches ...</td>\n      <td>@JnagarTr @btppubliceye \\nSir, tree branches c...</td>\n      <td>https://pbs.twimg.com/media/Eqj6iisUYAEmdbX.jpg</td>\n    </tr>\n    <tr>\n      <th>2</th>\n      <td>2472048134</td>\n      <td>@devda_vishal Please wait. We will check and l...</td>\n      <td>2020-12-30T13:09:27.000Z</td>\n      <td>1344269369874923522</td>\n      <td>[{'type': 'replied_to', 'id': '134392161145229...</td>\n      <td>NaN</td>\n      <td>[, ]</td>\n      <td></td>\n      <td></td>\n    </tr>\n    <tr>\n      <th>3</th>\n      <td>415639796</td>\n      <td>@shyamkumar0531 @Tejasvi_Surya @PCMohanMP @BBM...</td>\n      <td>2020-12-30T13:03:36.000Z</td>\n      <td>1344267894813642754</td>\n      <td>[{'type': 'replied_to', 'id': '134419557884710...</td>\n      <td>NaN</td>\n      <td>[, ]</td>\n      <td></td>\n      <td></td>\n    </tr>\n    <tr>\n      <th>4</th>\n      <td>779270730139574272</td>\n      <td>@SrihariGoutham @rajajinagartrps @rajajinagart...</td>\n      <td>2020-12-30T13:02:25.000Z</td>\n      <td>1344267599287177216</td>\n      <td>[{'type': 'replied_to', 'id': '134426628904952...</td>\n      <td>NaN</td>\n      <td>[@btppubliceye @rajajinagartrps This car was p...</td>\n      <td>@btppubliceye @rajajinagartrps This car was pa...</td>\n      <td>https://pbs.twimg.com/media/EqfLDMuXYAU9u82.jpg</td>\n    </tr>\n  </tbody>\n</table>\n</div>"
     },
     "metadata": {},
     "execution_count": 37
    }
   ],
   "source": [
    "df.head()"
   ]
  },
  {
   "cell_type": "code",
   "execution_count": 38,
   "metadata": {},
   "outputs": [
    {
     "output_type": "execute_result",
     "data": {
      "text/plain": [
       "in_reply_to_user_id       324\n",
       "text                      333\n",
       "created_at                333\n",
       "id                        333\n",
       "referenced_tweets         333\n",
       "attachments.media_keys      8\n",
       "original_text             333\n",
       "original_tweet            333\n",
       "media_url                 333\n",
       "dtype: int64"
      ]
     },
     "metadata": {},
     "execution_count": 38
    }
   ],
   "source": [
    "df.count()"
   ]
  },
  {
   "cell_type": "code",
   "execution_count": 39,
   "metadata": {},
   "outputs": [],
   "source": [
    "df.to_excel('btp-011072020T31122020.xlsx',index=False,columns=['id','created_at','referenced_tweets','text','original_tweet','media_url'])"
   ]
  }
 ],
 "metadata": {
  "kernelspec": {
   "display_name": "Python 3",
   "language": "python",
   "name": "python3"
  },
  "language_info": {
   "codemirror_mode": {
    "name": "ipython",
    "version": 3
   },
   "file_extension": ".py",
   "mimetype": "text/x-python",
   "name": "python",
   "nbconvert_exporter": "python",
   "pygments_lexer": "ipython3",
   "version": "3.8.5-final"
  }
 },
 "nbformat": 4,
 "nbformat_minor": 4
}